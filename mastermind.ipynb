{
  "cells": [
    {
      "cell_type": "code",
      "execution_count": 1,
      "metadata": {
        "id": "-Bo9SwKhniLS"
      },
      "outputs": [],
      "source": [
        "import random\n"
      ]
    },
    {
      "cell_type": "code",
      "source": [
        "def generate_number():\n",
        "    \"\"\"Generate a random 4-digit number\"\"\"\n",
        "    return ''.join(random.sample('0123456789', 4))\n",
        "\n",
        "def check_guess(secret_number, guess):\n",
        "    \"\"\"Check the guess against the secret number\"\"\"\n",
        "    bulls = sum(1 for i in range(4) if secret_number[i] == guess[i])\n",
        "    cows = sum(1 for digit in set(guess) if digit in secret_number)\n",
        "    cows -= bulls\n",
        "    return bulls, cows\n",
        "\n",
        "def play_mastermind():\n",
        "    print(\"Welcome to Mastermind!\")\n",
        "    print(\"Player 1, please set your 4-digit number.\")\n",
        "    player1_number = input(\"Enter your number: \")\n",
        "    print(\"Player 1's number has been set. Player 2, start guessing!\")\n",
        "\n",
        "    attempts = 0\n",
        "    while True:\n",
        "        player2_guess = input(\"Enter your guess: \")\n",
        "        attempts += 1\n",
        "        bulls, cows = check_guess(player1_number, player2_guess)\n",
        "        print(f\"Bulls: {bulls}, Cows: {cows}\")\n",
        "        if bulls == 4:\n",
        "            print(\"Congratulations! You've guessed the number!\")\n",
        "            print(f\"Number of attempts: {attempts}\")\n",
        "            break\n",
        "\n",
        "    print(\"\\nNow it's Player 2's turn to set the number.\")\n",
        "    player2_number = input(\"Player 2, enter your 4-digit number: \")\n",
        "    print(\"Player 2's number has been set. Player 1, start guessing!\")\n",
        "\n",
        "    attempts = 0\n",
        "    while True:\n",
        "        player1_guess = input(\"Enter your guess: \")\n",
        "        attempts += 1\n",
        "        bulls, cows = check_guess(player2_number, player1_guess)\n",
        "        print(f\"Bulls: {bulls}, Cows: {cows}\")\n",
        "        if bulls == 4:\n",
        "            print(\"Congratulations! You've guessed the number!\")\n",
        "            print(f\"Number of attempts: {attempts}\")\n",
        "            break\n",
        "\n",
        "    if attempts > 7:\n",
        "        print(\"Nobody won. Try again!\")\n",
        "\n",
        "play_mastermind()"
      ],
      "metadata": {
        "colab": {
          "base_uri": "https://localhost:8080/"
        },
        "id": "JS1Rk4nw6MXH",
        "outputId": "9ffa1fab-d301-4264-f322-71daa1ffc24a"
      },
      "execution_count": 3,
      "outputs": [
        {
          "output_type": "stream",
          "name": "stdout",
          "text": [
            "Welcome to Mastermind!\n",
            "Player 1, please set your 4-digit number.\n",
            "Enter your number: 8003\n",
            "Player 1's number has been set. Player 2, start guessing!\n",
            "Enter your guess: 8765\n",
            "Bulls: 1, Cows: 0\n",
            "Enter your guess: 5673\n",
            "Bulls: 1, Cows: 0\n",
            "Enter your guess: 5768\n",
            "Bulls: 0, Cows: 1\n",
            "Enter your guess: 5233\n",
            "Bulls: 1, Cows: 0\n",
            "Enter your guess: 6789\n",
            "Bulls: 0, Cows: 1\n",
            "Enter your guess: 7890\n",
            "Bulls: 0, Cows: 2\n",
            "Enter your guess: 9876\n",
            "Bulls: 0, Cows: 1\n",
            "Enter your guess: 8760\n",
            "Bulls: 1, Cows: 1\n",
            "Enter your guess: 8778\n",
            "Bulls: 1, Cows: 0\n",
            "Enter your guess: 8900\n",
            "Bulls: 2, Cows: 0\n",
            "Enter your guess: 8432\n",
            "Bulls: 1, Cows: 1\n",
            "Enter your guess: 8008\n",
            "Bulls: 3, Cows: -1\n",
            "Enter your guess: 8003\n",
            "Bulls: 4, Cows: -1\n",
            "Congratulations! You've guessed the number!\n",
            "Number of attempts: 13\n",
            "\n",
            "Now it's Player 2's turn to set the number.\n",
            "Player 2, enter your 4-digit number: 4321\n",
            "Player 2's number has been set. Player 1, start guessing!\n",
            "Enter your guess: 7890\n",
            "Bulls: 0, Cows: 0\n",
            "Enter your guess: 3456\n",
            "Bulls: 0, Cows: 2\n",
            "Enter your guess: 5678\n",
            "Bulls: 0, Cows: 0\n",
            "Enter your guess: 7630\n",
            "Bulls: 0, Cows: 1\n",
            "Enter your guess: 8765\n",
            "Bulls: 0, Cows: 0\n",
            "Enter your guess: 4567\n",
            "Bulls: 1, Cows: 0\n",
            "Enter your guess: 4444\n",
            "Bulls: 1, Cows: 0\n",
            "Enter your guess: 4356\n",
            "Bulls: 2, Cows: 0\n",
            "Enter your guess: 4329\n",
            "Bulls: 3, Cows: 0\n",
            "Enter your guess: 4432\n",
            "Bulls: 1, Cows: 2\n",
            "Enter your guess: 4321\n",
            "Bulls: 4, Cows: 0\n",
            "Congratulations! You've guessed the number!\n",
            "Number of attempts: 11\n",
            "Nobody won. Try again!\n"
          ]
        }
      ]
    }
  ],
  "metadata": {
    "colab": {
      "provenance": []
    },
    "kernelspec": {
      "display_name": "Python 3",
      "name": "python3"
    },
    "language_info": {
      "name": "python"
    }
  },
  "nbformat": 4,
  "nbformat_minor": 0
}